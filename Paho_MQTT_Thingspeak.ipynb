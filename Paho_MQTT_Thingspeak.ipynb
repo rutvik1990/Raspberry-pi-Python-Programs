{
  "nbformat": 4,
  "nbformat_minor": 0,
  "metadata": {
    "colab": {
      "name": "Untitled1.ipynb",
      "provenance": [],
      "authorship_tag": "ABX9TyMIkL+iLfVG93SdDvvH/r1j",
      "include_colab_link": true
    },
    "kernelspec": {
      "name": "python3",
      "display_name": "Python 3"
    },
    "language_info": {
      "name": "python"
    }
  },
  "cells": [
    {
      "cell_type": "markdown",
      "metadata": {
        "id": "view-in-github",
        "colab_type": "text"
      },
      "source": [
        "<a href=\"https://colab.research.google.com/github/rutvik1990/Raspberry-pi-Python-Programs/blob/main/Paho_MQTT_Thingspeak.ipynb\" target=\"_parent\"><img src=\"https://colab.research.google.com/assets/colab-badge.svg\" alt=\"Open In Colab\"/></a>"
      ]
    },
    {
      "cell_type": "code",
      "execution_count": 1,
      "metadata": {
        "colab": {
          "base_uri": "https://localhost:8080/",
          "height": 651
        },
        "id": "zvedy2DhuJ4R",
        "outputId": "6bf4bbc6-c3bd-4243-e973-2f3bef37e7c9"
      },
      "outputs": [
        {
          "output_type": "stream",
          "name": "stdout",
          "text": [
            "Collecting paho-mqtt\n",
            "  Downloading paho-mqtt-1.6.1.tar.gz (99 kB)\n",
            "\u001b[?25l\r\u001b[K     |███▎                            | 10 kB 19.2 MB/s eta 0:00:01\r\u001b[K     |██████▋                         | 20 kB 20.6 MB/s eta 0:00:01\r\u001b[K     |██████████                      | 30 kB 25.4 MB/s eta 0:00:01\r\u001b[K     |█████████████▏                  | 40 kB 20.8 MB/s eta 0:00:01\r\u001b[K     |████████████████▌               | 51 kB 20.4 MB/s eta 0:00:01\r\u001b[K     |███████████████████▉            | 61 kB 17.0 MB/s eta 0:00:01\r\u001b[K     |███████████████████████         | 71 kB 15.1 MB/s eta 0:00:01\r\u001b[K     |██████████████████████████▍     | 81 kB 15.9 MB/s eta 0:00:01\r\u001b[K     |█████████████████████████████▊  | 92 kB 17.3 MB/s eta 0:00:01\r\u001b[K     |████████████████████████████████| 99 kB 5.6 MB/s \n",
            "\u001b[?25hBuilding wheels for collected packages: paho-mqtt\n",
            "  Building wheel for paho-mqtt (setup.py) ... \u001b[?25l\u001b[?25hdone\n",
            "  Created wheel for paho-mqtt: filename=paho_mqtt-1.6.1-py3-none-any.whl size=62133 sha256=1e572e67bb7de7858721cea6858c04ae880d38fee1eb3f63144c60ae1325d21b\n",
            "  Stored in directory: /root/.cache/pip/wheels/d0/bf/ac/2b3f43f8c6fcd0f4ba5395397458c521eb0b52d33b574a5a40\n",
            "Successfully built paho-mqtt\n",
            "Installing collected packages: paho-mqtt\n",
            "Successfully installed paho-mqtt-1.6.1\n",
            "2.0 6.1\n",
            "field1=2.0&field2=6.1\n",
            "1.6 6.1\n",
            "field1=1.6&field2=6.1\n"
          ]
        },
        {
          "output_type": "error",
          "ename": "KeyboardInterrupt",
          "evalue": "ignored",
          "traceback": [
            "\u001b[0;31m---------------------------------------------------------------------------\u001b[0m",
            "\u001b[0;31mKeyboardInterrupt\u001b[0m                         Traceback (most recent call last)",
            "\u001b[0;32m<ipython-input-1-492f04c97d68>\u001b[0m in \u001b[0;36m<module>\u001b[0;34m()\u001b[0m\n\u001b[1;32m     24\u001b[0m \u001b[0mtopic\u001b[0m \u001b[0;34m=\u001b[0m \u001b[0;34m\"channels/\"\u001b[0m \u001b[0;34m+\u001b[0m \u001b[0mchannel_ID\u001b[0m \u001b[0;34m+\u001b[0m \u001b[0;34m\"/publish/\"\u001b[0m \u001b[0;34m+\u001b[0m \u001b[0mapiKey\u001b[0m\u001b[0;34m\u001b[0m\u001b[0;34m\u001b[0m\u001b[0m\n\u001b[1;32m     25\u001b[0m \u001b[0;32mwhile\u001b[0m \u001b[0;32mTrue\u001b[0m\u001b[0;34m:\u001b[0m\u001b[0;34m\u001b[0m\u001b[0;34m\u001b[0m\u001b[0m\n\u001b[0;32m---> 26\u001b[0;31m   \u001b[0mcpu_usage\u001b[0m \u001b[0;34m=\u001b[0m \u001b[0mpsutil\u001b[0m\u001b[0;34m.\u001b[0m\u001b[0mcpu_percent\u001b[0m\u001b[0;34m(\u001b[0m\u001b[0minterval\u001b[0m \u001b[0;34m=\u001b[0m \u001b[0;36m16\u001b[0m\u001b[0;34m)\u001b[0m\u001b[0;34m\u001b[0m\u001b[0;34m\u001b[0m\u001b[0m\n\u001b[0m\u001b[1;32m     27\u001b[0m   \u001b[0mram_usage\u001b[0m \u001b[0;34m=\u001b[0m \u001b[0mpsutil\u001b[0m\u001b[0;34m.\u001b[0m\u001b[0mvirtual_memory\u001b[0m\u001b[0;34m(\u001b[0m\u001b[0;34m)\u001b[0m\u001b[0;34m.\u001b[0m\u001b[0mpercent\u001b[0m\u001b[0;34m\u001b[0m\u001b[0;34m\u001b[0m\u001b[0m\n\u001b[1;32m     28\u001b[0m   \u001b[0mprint\u001b[0m\u001b[0;34m(\u001b[0m\u001b[0mcpu_usage\u001b[0m\u001b[0;34m,\u001b[0m\u001b[0mram_usage\u001b[0m\u001b[0;34m)\u001b[0m\u001b[0;34m\u001b[0m\u001b[0;34m\u001b[0m\u001b[0m\n",
            "\u001b[0;32m/usr/local/lib/python3.7/dist-packages/psutil/__init__.py\u001b[0m in \u001b[0;36mcpu_percent\u001b[0;34m(interval, percpu)\u001b[0m\n\u001b[1;32m   1731\u001b[0m         \u001b[0;32mif\u001b[0m \u001b[0mblocking\u001b[0m\u001b[0;34m:\u001b[0m\u001b[0;34m\u001b[0m\u001b[0;34m\u001b[0m\u001b[0m\n\u001b[1;32m   1732\u001b[0m             \u001b[0mt1\u001b[0m \u001b[0;34m=\u001b[0m \u001b[0mcpu_times\u001b[0m\u001b[0;34m(\u001b[0m\u001b[0;34m)\u001b[0m\u001b[0;34m\u001b[0m\u001b[0;34m\u001b[0m\u001b[0m\n\u001b[0;32m-> 1733\u001b[0;31m             \u001b[0mtime\u001b[0m\u001b[0;34m.\u001b[0m\u001b[0msleep\u001b[0m\u001b[0;34m(\u001b[0m\u001b[0minterval\u001b[0m\u001b[0;34m)\u001b[0m\u001b[0;34m\u001b[0m\u001b[0;34m\u001b[0m\u001b[0m\n\u001b[0m\u001b[1;32m   1734\u001b[0m         \u001b[0;32melse\u001b[0m\u001b[0;34m:\u001b[0m\u001b[0;34m\u001b[0m\u001b[0;34m\u001b[0m\u001b[0m\n\u001b[1;32m   1735\u001b[0m             \u001b[0mt1\u001b[0m \u001b[0;34m=\u001b[0m \u001b[0m_last_cpu_times\u001b[0m\u001b[0;34m\u001b[0m\u001b[0;34m\u001b[0m\u001b[0m\n",
            "\u001b[0;31mKeyboardInterrupt\u001b[0m: "
          ]
        }
      ],
      "source": [
        "! pip install paho-mqtt\n",
        "import paho.mqtt.publish as publish\n",
        "import psutil\n",
        "channel_ID = \"1456134\"\n",
        "apiKey = \"SAZ5HWAEISA4OSX9\"\n",
        "mqtt_host = \"mqtt.thingspeak.com\"\n",
        "\n",
        "unsecure_tcp = False\n",
        "unsecure_web = True\n",
        "secure_web = False\n",
        "if unsecure_tcp:\n",
        "  t_transport = \"tcp\"\n",
        "  t_port = 1883\n",
        "  t_tls = None\n",
        "if unsecure_web:\n",
        "  t_transport = \"websockets\"\n",
        "  t_port = 80\n",
        "  t_tls = None\n",
        "if secure_web:\n",
        "  t_transport = \"websockets\"\n",
        "  t_port = 443\n",
        "  t_tls = \"\"\n",
        "\n",
        "topic = \"channels/\" + channel_ID + \"/publish/\" + apiKey\n",
        "while True:\n",
        "  cpu_usage = psutil.cpu_percent(interval = 16)\n",
        "  ram_usage = psutil.virtual_memory().percent\n",
        "  print(cpu_usage,ram_usage)\n",
        "  tPayload = \"field1=\" + str(cpu_usage) + \"&field2=\" + str(ram_usage)\n",
        "  print(tPayload)\n",
        "  publish.single(topic, payload=tPayload, hostname=mqtt_host, port=t_port, tls=t_tls, transport=t_transport)"
      ]
    },
    {
      "cell_type": "code",
      "source": [
        ""
      ],
      "metadata": {
        "id": "-Fazgy8nuO3z"
      },
      "execution_count": null,
      "outputs": []
    }
  ]
}